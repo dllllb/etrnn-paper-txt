{
 "cells": [
  {
   "cell_type": "code",
   "execution_count": 1,
   "metadata": {
    "collapsed": true
   },
   "outputs": [],
   "source": [
    "import pandas as pd"
   ]
  },
  {
   "cell_type": "code",
   "execution_count": 15,
   "metadata": {},
   "outputs": [
    {
     "data": {
      "text/plain": [
       "count    6.000000\n",
       "mean     0.815482\n",
       "std      0.001567\n",
       "min      0.813333\n",
       "25%      0.814370\n",
       "50%      0.815763\n",
       "75%      0.816422\n",
       "max      0.817487\n",
       "Name: ROC-AUC, dtype: float64"
      ]
     },
     "execution_count": 15,
     "metadata": {},
     "output_type": "execute_result"
    }
   ],
   "source": [
    "stats_arch_gru_1_uni = pd.read_json('article-stats.json').query('n_epoch == 10 \\\n",
    "and ensemble_size == 1 and rnn_type == \\'gru\\' and bidir == False and embed_dropout == 0 \\\n",
    "and trx_dropout == 0.01 and permute_trials_proportion == 0 and lr == 0.004 and loss ==\\'ranking\\' \\\n",
    "and loss_margin == 0.01 and lr_step_gamma == 0.5').head(6)\n",
    "stats_arch_gru_1_uni['ROC-AUC'].describe()"
   ]
  },
  {
   "cell_type": "code",
   "execution_count": 16,
   "metadata": {},
   "outputs": [
    {
     "data": {
      "text/plain": [
       "count    6.000000\n",
       "mean     0.805521\n",
       "std      0.002239\n",
       "min      0.802142\n",
       "25%      0.804097\n",
       "50%      0.806140\n",
       "75%      0.807087\n",
       "max      0.807885\n",
       "Name: ROC-AUC, dtype: float64"
      ]
     },
     "execution_count": 16,
     "metadata": {},
     "output_type": "execute_result"
    }
   ],
   "source": [
    "stats_arch_lstm_1_uni = pd.read_json('article-stats.json').query('n_epoch == 10 \\\n",
    "and ensemble_size == 1 and rnn_type == \\'lstm\\' and bidir == False and embed_dropout == 0 \\\n",
    "and trx_dropout == 0.01 and permute_trials_proportion == 0 and lr == 0.004 and loss ==\\'ranking\\' \\\n",
    "and loss_margin == 0.01 and lr_step_gamma == 0.5')\n",
    "stats_arch_lstm_1_uni['ROC-AUC'].describe()"
   ]
  },
  {
   "cell_type": "code",
   "execution_count": 17,
   "metadata": {},
   "outputs": [
    {
     "data": {
      "text/plain": [
       "count    6.000000\n",
       "mean     0.816019\n",
       "std      0.000448\n",
       "min      0.815428\n",
       "25%      0.815673\n",
       "50%      0.816090\n",
       "75%      0.816398\n",
       "max      0.816471\n",
       "Name: ROC-AUC, dtype: float64"
      ]
     },
     "execution_count": 17,
     "metadata": {},
     "output_type": "execute_result"
    }
   ],
   "source": [
    "stats_arch_gru_1_bi = pd.read_json('article-stats.json').query('n_epoch == 10 \\\n",
    "and ensemble_size == 1 and rnn_type == \\'gru\\' and bidir == True and embed_dropout == 0 \\\n",
    "and trx_dropout == 0.01 and permute_trials_proportion == 0 and lr == 0.004 and loss ==\\'ranking\\' \\\n",
    "and loss_margin == 0.01 and lr_step_gamma == 0.5')\n",
    "stats_arch_gru_1_bi['ROC-AUC'].describe()"
   ]
  },
  {
   "cell_type": "code",
   "execution_count": 48,
   "metadata": {},
   "outputs": [
    {
     "data": {
      "text/plain": [
       "count    0.0\n",
       "mean     NaN\n",
       "std      NaN\n",
       "min      NaN\n",
       "25%      NaN\n",
       "50%      NaN\n",
       "75%      NaN\n",
       "max      NaN\n",
       "Name: ROC-AUC, dtype: float64"
      ]
     },
     "execution_count": 48,
     "metadata": {},
     "output_type": "execute_result"
    }
   ],
   "source": [
    "stats_arch_lstm_1_bi = pd.read_json('article-stats.json').query('n_epoch == 10 \\\n",
    "and ensemble_size == 1 and rnn_type == \\'lstm\\' and bidir == True and embed_dropout == 0 \\\n",
    "and trx_dropout == 0.01 and permute_trials_proportion == 0 and lr == 0.004 and loss ==\\'ranking\\' \\\n",
    "and loss_margin == 0.01 and lr_step_gamma == 0.5')\n",
    "stats_arch_lstm_1_bi['ROC-AUC'].describe()"
   ]
  },
  {
   "cell_type": "code",
   "execution_count": 19,
   "metadata": {},
   "outputs": [
    {
     "data": {
      "text/plain": [
       "count    6.000000\n",
       "mean     0.815482\n",
       "std      0.001567\n",
       "min      0.813333\n",
       "25%      0.814370\n",
       "50%      0.815763\n",
       "75%      0.816422\n",
       "max      0.817487\n",
       "Name: ROC-AUC, dtype: float64"
      ]
     },
     "execution_count": 19,
     "metadata": {},
     "output_type": "execute_result"
    }
   ],
   "source": [
    "stats_arch_ranking001 = pd.read_json('article-stats.json').query('n_epoch == 10 \\\n",
    "and ensemble_size == 1 and rnn_type == \\'gru\\' and bidir == False and embed_dropout == 0 \\\n",
    "and trx_dropout == 0.01 and permute_trials_proportion == 0 and lr == 0.004 and loss ==\\'ranking\\' \\\n",
    "and loss_margin == 0.01 and lr_step_gamma == 0.5').head(6)\n",
    "stats_arch_ranking001['ROC-AUC'].describe()"
   ]
  },
  {
   "cell_type": "code",
   "execution_count": 20,
   "metadata": {},
   "outputs": [
    {
     "data": {
      "text/plain": [
       "count    6.000000\n",
       "mean     0.810357\n",
       "std      0.002649\n",
       "min      0.805149\n",
       "25%      0.810450\n",
       "50%      0.811346\n",
       "75%      0.811706\n",
       "max      0.812325\n",
       "Name: ROC-AUC, dtype: float64"
      ]
     },
     "execution_count": 20,
     "metadata": {},
     "output_type": "execute_result"
    }
   ],
   "source": [
    "stats_arch_ranking05 = pd.read_json('article-stats.json').query('n_epoch == 10 \\\n",
    "and ensemble_size == 1 and rnn_type == \\'gru\\' and bidir == False and embed_dropout == 0 \\\n",
    "and trx_dropout == 0.01 and permute_trials_proportion == 0 and lr == 0.004 and loss ==\\'ranking\\' \\\n",
    "and loss_margin == 0.5 and lr_step_gamma == 0.5')\n",
    "stats_arch_ranking05['ROC-AUC'].describe()"
   ]
  },
  {
   "cell_type": "code",
   "execution_count": 21,
   "metadata": {},
   "outputs": [
    {
     "data": {
      "text/plain": [
       "count    6.000000\n",
       "mean     0.816791\n",
       "std      0.001697\n",
       "min      0.814495\n",
       "25%      0.815500\n",
       "50%      0.817434\n",
       "75%      0.817763\n",
       "max      0.818652\n",
       "Name: ROC-AUC, dtype: float64"
      ]
     },
     "execution_count": 21,
     "metadata": {},
     "output_type": "execute_result"
    }
   ],
   "source": [
    "stats_arch_ranking01 = pd.read_json('article-stats.json').query('n_epoch == 10 \\\n",
    "and ensemble_size == 1 and rnn_type == \\'gru\\' and bidir == False and embed_dropout == 0 \\\n",
    "and trx_dropout == 0.01 and permute_trials_proportion == 0 and lr == 0.004 and loss ==\\'ranking\\' \\\n",
    "and loss_margin == 0.1 and lr_step_gamma == 0.5')\n",
    "stats_arch_ranking01['ROC-AUC'].describe()"
   ]
  },
  {
   "cell_type": "code",
   "execution_count": 22,
   "metadata": {},
   "outputs": [
    {
     "data": {
      "text/plain": [
       "count    6.000000\n",
       "mean     0.812449\n",
       "std      0.001609\n",
       "min      0.809624\n",
       "25%      0.812004\n",
       "50%      0.812754\n",
       "75%      0.813493\n",
       "max      0.814071\n",
       "Name: ROC-AUC, dtype: float64"
      ]
     },
     "execution_count": 22,
     "metadata": {},
     "output_type": "execute_result"
    }
   ],
   "source": [
    "stats_arch_bce = pd.read_json('article-stats.json').query('n_epoch == 10 \\\n",
    "and ensemble_size == 1 and rnn_type == \\'gru\\' and bidir == False and embed_dropout == 0 \\\n",
    "and trx_dropout == 0.01 and permute_trials_proportion == 0 and lr == 0.004 and loss ==\\'bce\\' \\\n",
    "and loss_margin == 0.01 and lr_step_gamma == 0.5')\n",
    "stats_arch_bce['ROC-AUC'].describe()"
   ]
  },
  {
   "cell_type": "code",
   "execution_count": 23,
   "metadata": {},
   "outputs": [
    {
     "data": {
      "text/plain": [
       "count    6.000000\n",
       "mean     0.814446\n",
       "std      0.003039\n",
       "min      0.810350\n",
       "25%      0.813046\n",
       "50%      0.814413\n",
       "75%      0.815185\n",
       "max      0.819467\n",
       "Name: ROC-AUC, dtype: float64"
      ]
     },
     "execution_count": 23,
     "metadata": {},
     "output_type": "execute_result"
    }
   ],
   "source": [
    "stats_arch_both = pd.read_json('article-stats.json').query('n_epoch == 10 \\\n",
    "and ensemble_size == 1 and rnn_type == \\'gru\\' and bidir == False and embed_dropout == 0 \\\n",
    "and trx_dropout == 0.01 and permute_trials_proportion == 0 and lr == 0.004 and loss ==\\'both\\' \\\n",
    "and loss_margin == 0.01 and lr_step_gamma == 0.5')\n",
    "stats_arch_both['ROC-AUC'].describe()"
   ]
  },
  {
   "cell_type": "code",
   "execution_count": 33,
   "metadata": {},
   "outputs": [
    {
     "data": {
      "text/plain": [
       "count    6.000000\n",
       "mean     0.804161\n",
       "std      0.002635\n",
       "min      0.800542\n",
       "25%      0.802249\n",
       "50%      0.804557\n",
       "75%      0.806101\n",
       "max      0.807213\n",
       "Name: ROC-AUC, dtype: float64"
      ]
     },
     "execution_count": 33,
     "metadata": {},
     "output_type": "execute_result"
    }
   ],
   "source": [
    "stats_lr_regime_gamma_1 = pd.read_json('article-stats.json').query('n_epoch == 10 \\\n",
    "and ensemble_size == 1 and rnn_type == \\'gru\\' and bidir == False and embed_dropout == 0 \\\n",
    "and trx_dropout == 0.01 and permute_trials_proportion == 0 and lr == 0.004 and loss ==\\'ranking\\' \\\n",
    "and loss_margin == 0.01 and lr_step_gamma == 1')\n",
    "stats_lr_regime_gamma_1['ROC-AUC'].describe()"
   ]
  },
  {
   "cell_type": "code",
   "execution_count": 34,
   "metadata": {},
   "outputs": [
    {
     "data": {
      "text/plain": [
       "count    6.000000\n",
       "mean     0.814391\n",
       "std      0.001467\n",
       "min      0.812448\n",
       "25%      0.813226\n",
       "50%      0.814711\n",
       "75%      0.815624\n",
       "max      0.815815\n",
       "Name: ROC-AUC, dtype: float64"
      ]
     },
     "execution_count": 34,
     "metadata": {},
     "output_type": "execute_result"
    }
   ],
   "source": [
    "stats_lr_regime_gamma_08 = pd.read_json('article-stats.json').query('n_epoch == 10 \\\n",
    "and ensemble_size == 1 and rnn_type == \\'gru\\' and bidir == False and embed_dropout == 0 \\\n",
    "and trx_dropout == 0.01 and permute_trials_proportion == 0 and lr == 0.004 and loss ==\\'ranking\\' \\\n",
    "and loss_margin == 0.01 and lr_step_gamma == 0.8')\n",
    "stats_lr_regime_gamma_08['ROC-AUC'].describe()"
   ]
  },
  {
   "cell_type": "code",
   "execution_count": 44,
   "metadata": {},
   "outputs": [
    {
     "data": {
      "text/plain": [
       "count    6.000000\n",
       "mean     0.815482\n",
       "std      0.001567\n",
       "min      0.813333\n",
       "25%      0.814370\n",
       "50%      0.815763\n",
       "75%      0.816422\n",
       "max      0.817487\n",
       "Name: ROC-AUC, dtype: float64"
      ]
     },
     "execution_count": 44,
     "metadata": {},
     "output_type": "execute_result"
    }
   ],
   "source": [
    "stats_lr_regime_gamma_05 = pd.read_json('article-stats.json').query('n_epoch == 10 \\\n",
    "and ensemble_size == 1 and rnn_type == \\'gru\\' and bidir == False and embed_dropout == 0 \\\n",
    "and trx_dropout == 0.01 and permute_trials_proportion == 0 and lr == 0.004 and loss ==\\'ranking\\' \\\n",
    "and loss_margin == 0.01 and lr_step_gamma == 0.5 ').head(6)\n",
    "stats_lr_regime_gamma_05['ROC-AUC'].describe()"
   ]
  },
  {
   "cell_type": "code",
   "execution_count": 2,
   "metadata": {},
   "outputs": [
    {
     "data": {
      "text/plain": [
       "count    24.000000\n",
       "mean      0.814115\n",
       "std       0.003024\n",
       "min       0.807897\n",
       "25%       0.811238\n",
       "50%       0.815281\n",
       "75%       0.816311\n",
       "max       0.818119\n",
       "Name: ROC-AUC, dtype: float64"
      ]
     },
     "execution_count": 2,
     "metadata": {},
     "output_type": "execute_result"
    }
   ],
   "source": [
    "stats_do = pd.read_json('article-stats.json').query('n_epoch == 10 \\\n",
    "and ensemble_size == 1 and rnn_type == \\'gru\\' and bidir == False and lr_step_gamma == 0.6000000000000001 \\\n",
    "and lr == 0.004 and loss ==\\'ranking\\' and loss_margin == 0.01')\n",
    "stats_do['ROC-AUC'].describe()"
   ]
  },
  {
   "cell_type": "code",
   "execution_count": null,
   "metadata": {},
   "outputs": [],
   "source": []
  }
 ],
 "metadata": {
  "kernelspec": {
   "display_name": "Python 3",
   "language": "python",
   "name": "python3"
  },
  "language_info": {
   "codemirror_mode": {
    "name": "ipython",
    "version": 3
   },
   "file_extension": ".py",
   "mimetype": "text/x-python",
   "name": "python",
   "nbconvert_exporter": "python",
   "pygments_lexer": "ipython3",
   "version": "3.6.6"
  }
 },
 "nbformat": 4,
 "nbformat_minor": 2
}
